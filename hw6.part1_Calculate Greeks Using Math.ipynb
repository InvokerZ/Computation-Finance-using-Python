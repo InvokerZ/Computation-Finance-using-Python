{
 "cells": [
  {
   "cell_type": "code",
   "execution_count": 2,
   "metadata": {},
   "outputs": [],
   "source": [
    "from sympy import *\n",
    "import sympy\n",
    "\n",
    "# European call option\n",
    "\n",
    "\n",
    "#d1=(log(s/k)+(r-d+sigma*sigma/2)*tao)/(sigma*math.sqrt(tao))\n",
    "#d2=d1-sigma*math.sqrt(tao)\n",
    "\n",
    "def normcdf(x):\n",
    "    return (1+sympy.erf(x/sympy.sqrt(2)))/2\n",
    "\n",
    "def Euro_call(s,k,sigma,tao,r,d):\n",
    "    d1=(sympy.log(s/k)+(r-d+sigma*sigma/2)*tao)/(sigma*sympy.sqrt(tao))\n",
    "    d2=d1-sigma*sympy.sqrt(tao)\n",
    "    call=s*sympy.exp(-d*tao)*normcdf(d1)-k*sympy.exp(-r*tao)*normcdf(d2)\n",
    "    return call\n",
    "\n",
    "def Euro_put(s,k,sigma,tao,r,d):\n",
    "    d1=(sympy.log(s/k)+(r-d+sigma*sigma/2)*tao)/(sigma*sympy.sqrt(tao))\n",
    "    d2=d1-sigma*sympy.sqrt(tao)\n",
    "    put=k*sympy.exp(-r*tao)*normcdf(-d2)-s*sympy.exp(-d*tao)*normcdf(-d1)\n",
    "    return put\n",
    "\n",
    "\n",
    "\n"
   ]
  },
  {
   "cell_type": "code",
   "execution_count": 3,
   "metadata": {},
   "outputs": [],
   "source": [
    "#symbolize the parameters\n",
    "s=Symbol('s')\n",
    "k=Symbol('k')\n",
    "sigma=Symbol('sigma')\n",
    "tao=Symbol('tao')\n",
    "r=Symbol('r')\n",
    "d=Symbol('d')"
   ]
  },
  {
   "cell_type": "code",
   "execution_count": 4,
   "metadata": {},
   "outputs": [],
   "source": [
    "#use diff function in the module to get the greeks\n",
    "delta=diff(Euro_call(s,k,sigma,tao,r,d),s)\n",
    "gamma=diff(Euro_call(s,k,sigma,tao,r,d),s,s)\n",
    "rho=diff(Euro_call(s,k,sigma,tao,r,d),r)\n",
    "theta=diff(Euro_call(s,k,sigma,tao,r,d),tao)\n",
    "vega=diff(Euro_call(s,k,sigma,tao,r,d),sigma)"
   ]
  },
  {
   "cell_type": "code",
   "execution_count": null,
   "metadata": {},
   "outputs": [],
   "source": []
  },
  {
   "cell_type": "code",
   "execution_count": 9,
   "metadata": {},
   "outputs": [],
   "source": [
    "#use subs function to give value to the symbolic parameter \n",
    "def getDelta(s1,k1,sigma1,tao1,r1,d1):\n",
    "    return float(delta.subs([(s,100),(k,100),(sigma,0.3),(tao,1),(d,0),(r,0)]))\n",
    "def getGamma(s1,k1,sigma1,tao1,r1,d1):\n",
    "    return float(gamma.subs([(s,100),(k,100),(sigma,0.3),(tao,1),(d,0),(r,0)]))\n",
    "def getRho(s1,k1,sigma1,tao1,r1,d1):\n",
    "    return float(rho.subs([(s,100),(k,100),(sigma,0.3),(tao,1),(d,0),(r,0)]))\n",
    "def getTheta(s1,k1,sigma1,tao1,r1,d1):\n",
    "    return float(theta.subs([(s,100),(k,100),(sigma,0.3),(tao,1),(d,0),(r,0)]))\n",
    "def getVega(s1,k1,sigma1,tao1,r1,d1):\n",
    "    return float(vega.subs([(s,100),(k,100),(sigma,0.3),(tao,1),(d,0),(r,0)]))\n",
    "\n"
   ]
  },
  {
   "cell_type": "code",
   "execution_count": 13,
   "metadata": {},
   "outputs": [
    {
     "data": {
      "text/plain": [
       "44.03823076297575"
      ]
     },
     "execution_count": 13,
     "metadata": {},
     "output_type": "execute_result"
    }
   ],
   "source": [
    "#do some tests\n",
    "getRho(100,100,0.3,1,0,0)"
   ]
  },
  {
   "cell_type": "code",
   "execution_count": 19,
   "metadata": {},
   "outputs": [],
   "source": [
    "with open('result.txt','w') as out:\n",
    "    out.writelines('The result of bs_option is:\\n')\n",
    "    out.writelines('Delta: '+str(getDelta(100,100,0.3,1,0,0))+'\\n')\n",
    "    out.writelines('Gamma: '+str(getGamma(100,100,0.3,1,0,0))+'\\n')\n",
    "    out.writelines('Rho: '+str(getRho(100,100,0.3,1,0,0))+'\\n')\n",
    "    out.writelines('Theta: '+str(getTheta(100,100,0.3,1,0,0))+'\\n')\n",
    "    out.writelines('Vega: '+str(getVega(100,100,0.3,1,0,0))+'\\n')"
   ]
  },
  {
   "cell_type": "code",
   "execution_count": null,
   "metadata": {},
   "outputs": [],
   "source": []
  }
 ],
 "metadata": {
  "kernelspec": {
   "display_name": "Python 3",
   "language": "python",
   "name": "python3"
  },
  "language_info": {
   "codemirror_mode": {
    "name": "ipython",
    "version": 3
   },
   "file_extension": ".py",
   "mimetype": "text/x-python",
   "name": "python",
   "nbconvert_exporter": "python",
   "pygments_lexer": "ipython3",
   "version": "3.7.4"
  }
 },
 "nbformat": 4,
 "nbformat_minor": 2
}
