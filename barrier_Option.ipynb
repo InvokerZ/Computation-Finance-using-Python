{
 "cells": [
  {
   "cell_type": "code",
   "execution_count": 1,
   "metadata": {},
   "outputs": [],
   "source": [
    "import numpy as np\n",
    "from math import exp\n",
    "S0=100\n",
    "x=100\n",
    "barrier=120\n",
    "T=1\n",
    "n_steps=6000\n",
    "r = 0\n",
    "sigma=0.3\n",
    "\n",
    "d=0\n",
    "disc=np.exp(-r*T)\n",
    "n_simulation =10000\n",
    "dt =T/n_steps\n",
    "\n",
    "time_ = range(0,int(n_steps), 1)\n",
    "\n",
    "\n",
    "\n",
    "call=lambda s:s-x if s>x else 0\n",
    "put=lambda s:x-s if s<x else 0"
   ]
  },
  {
   "cell_type": "code",
   "execution_count": 33,
   "metadata": {},
   "outputs": [],
   "source": [
    "#for knock out barrier option only\n",
    "D_outCallTotal,D_outPutTotal=0,0\n",
    "U_outCallTotal, U_outPutTotal=0,0\n",
    "for j in range(0,n_simulation):\n",
    "    S = np.zeros([n_steps],dtype=float)\n",
    "    S[0]=S0\n",
    "    #set the initial state \n",
    "    \n",
    "    D_outStatus=False\n",
    "    U_outStatus=False\n",
    "    \n",
    "    #e=np.random.randn(n_steps-1)\n",
    "    for i in time_[:-1]:\n",
    "        e=np.random.normal()\n",
    "        S[i+1]=S[i]*exp((r-d-0.5*sigma*sigma)*dt+sigma*np.sqrt(dt)*e)\n",
    "        if (S0<barrier)and(x<barrier):\n",
    "            if S[i+1]>=barrier:\n",
    "                U_outStatus=True \n",
    "        if S0>barrier:\n",
    "            if S[i+1]<=barrier:\n",
    "                D_outStatus=True \n",
    "    if S0>barrier:\n",
    "        if D_outStatus==False:\n",
    "        #print(S[-1])\n",
    "            D_outCallTotal+=call(S[-1])\n",
    "        #print('outtotal is '+str(outTotal))\n",
    "            D_outPutTotal+=put(S[-1])\n",
    "    if (S0<barrier)and(x<barrier):\n",
    "        if U_outStatus==False:\n",
    "        #print(S[-1])\n",
    "            U_outCallTotal+=call(S[-1])\n",
    "        #print('outtotal is '+str(outTotal))\n",
    "            U_outPutTotal+=put(S[-1])\n",
    "    '''   else:\n",
    "         inCallTotal+=call(S[-1])\n",
    "         inPutTotal+=put(S[-1])\n",
    "'''    "
   ]
  },
  {
   "cell_type": "code",
   "execution_count": 34,
   "metadata": {},
   "outputs": [],
   "source": [
    "D_OutCall=D_outCallTotal*disc/n_simulation\n",
    "D_outPut=D_outPutTotal*disc/n_simulation\n",
    "U_outCall=U_outCallTotal*disc/n_simulation\n",
    "U_outPut=U_outPutTotal*disc/n_simulation"
   ]
  },
  {
   "cell_type": "code",
   "execution_count": 4,
   "metadata": {
    "scrolled": true
   },
   "outputs": [],
   "source": [
    "a1=float(D_OutCall)\n",
    "\n",
    "b1=float(D_outPut)\n",
    "\n",
    "c1=float(U_outCall)\n",
    "\n",
    "d1=float(U_outPut)"
   ]
  },
  {
   "cell_type": "code",
   "execution_count": 24,
   "metadata": {},
   "outputs": [],
   "source": [
    "S0=100\n",
    "x=100\n",
    "barrier=90\n",
    "T=1\n",
    "r = 0\n",
    "sigma=0.3\n",
    "\n",
    "d=0"
   ]
  },
  {
   "cell_type": "code",
   "execution_count": 27,
   "metadata": {},
   "outputs": [],
   "source": [
    "a2=float(D_OutCall)\n",
    "\n",
    "b2=float(D_outPut)\n",
    "\n",
    "c2=float(U_outCall)\n",
    "\n",
    "d2=float(U_outPut)"
   ]
  },
  {
   "cell_type": "code",
   "execution_count": 32,
   "metadata": {},
   "outputs": [],
   "source": [
    "S0=100\n",
    "x=90\n",
    "barrier=90\n",
    "T=1\n",
    "r = 0\n",
    "sigma=0.3\n",
    "\n",
    "d=0"
   ]
  },
  {
   "cell_type": "code",
   "execution_count": 35,
   "metadata": {},
   "outputs": [],
   "source": [
    "a3=float(D_OutCall)\n",
    "\n",
    "b3=float(D_outPut)\n",
    "\n",
    "c3=float(U_outCall)\n",
    "\n",
    "d3=float(U_outPut)"
   ]
  },
  {
   "cell_type": "code",
   "execution_count": null,
   "metadata": {},
   "outputs": [],
   "source": [
    "with open('result')"
   ]
  },
  {
   "cell_type": "code",
   "execution_count": 37,
   "metadata": {},
   "outputs": [
    {
     "data": {
      "text/plain": [
       "10.171862511916203"
      ]
     },
     "execution_count": 37,
     "metadata": {},
     "output_type": "execute_result"
    }
   ],
   "source": [
    "a3"
   ]
  },
  {
   "cell_type": "code",
   "execution_count": 38,
   "metadata": {},
   "outputs": [
    {
     "data": {
      "text/plain": [
       "0.0"
      ]
     },
     "execution_count": 38,
     "metadata": {},
     "output_type": "execute_result"
    }
   ],
   "source": [
    "b3"
   ]
  },
  {
   "cell_type": "code",
   "execution_count": 39,
   "metadata": {},
   "outputs": [
    {
     "data": {
      "text/plain": [
       "0.0"
      ]
     },
     "execution_count": 39,
     "metadata": {},
     "output_type": "execute_result"
    }
   ],
   "source": [
    "c3"
   ]
  },
  {
   "cell_type": "code",
   "execution_count": 40,
   "metadata": {},
   "outputs": [
    {
     "data": {
      "text/plain": [
       "0.0"
      ]
     },
     "execution_count": 40,
     "metadata": {},
     "output_type": "execute_result"
    }
   ],
   "source": [
    "d3"
   ]
  },
  {
   "cell_type": "code",
   "execution_count": 44,
   "metadata": {},
   "outputs": [],
   "source": [
    "with open('pricing result.txt','w') as out:\n",
    "    out.writelines('The result of Knock out barrier option is:\\n')\n",
    "    out.writelines('Down_out_call,Down_out_put,up_out_call,up_out_put respectively'+'\\n')\n",
    "    \n",
    "    out.writelines(str(a1)+' '+str(b1)+' '+str(c1)+' '+str(d1)+'\\n')\n",
    "    \n",
    "    out.writelines(str(a2)+' '+str(b2)+' '+str(c2)+' '+str(d2)+'\\n')\n",
    "    \n",
    "    out.writelines(str(a3)+' '+str(b3)+' '+str(c3)+' '+str(d3)+'\\n')"
   ]
  },
  {
   "cell_type": "code",
   "execution_count": null,
   "metadata": {},
   "outputs": [],
   "source": []
  }
 ],
 "metadata": {
  "kernelspec": {
   "display_name": "Python 3",
   "language": "python",
   "name": "python3"
  },
  "language_info": {
   "codemirror_mode": {
    "name": "ipython",
    "version": 3
   },
   "file_extension": ".py",
   "mimetype": "text/x-python",
   "name": "python",
   "nbconvert_exporter": "python",
   "pygments_lexer": "ipython3",
   "version": "3.7.4"
  }
 },
 "nbformat": 4,
 "nbformat_minor": 2
}
