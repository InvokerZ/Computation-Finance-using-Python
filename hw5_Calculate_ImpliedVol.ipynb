{
 "cells": [
  {
   "cell_type": "code",
   "execution_count": 1,
   "metadata": {},
   "outputs": [],
   "source": [
    "from sympy import nsolve,Symbol\n",
    "import sympy\n",
    "vol=Symbol('sigma')\n",
    "# European call option\n",
    "\n",
    "\n",
    "#d1=(log(s/k)+(r-d+sigma*sigma/2)*tao)/(sigma*math.sqrt(tao))\n",
    "#d2=d1-sigma*math.sqrt(tao)\n",
    "\n",
    "def normcdf(x):\n",
    "    return (1+sympy.erf(x/sympy.sqrt(2)))/2\n",
    "\n",
    "def Euro_call(s,k,sigma,tao,r,d):\n",
    "    d1=(sympy.log(s/k)+(r-d+sigma*sigma/2)*tao)/(sigma*sympy.sqrt(tao))\n",
    "    d2=d1-sigma*sympy.sqrt(tao)\n",
    "    call=s*sympy.exp(-d*tao)*normcdf(d1)-k*sympy.exp(-r*tao)*normcdf(d2)\n",
    "    return call\n",
    "\n",
    "def Euro_put(s,k,sigma,tao,r,d):\n",
    "    d1=(sympy.log(s/k)+(r-d+sigma*sigma/2)*tao)/(sigma*sympy.sqrt(tao))\n",
    "    d2=d1-sigma*sympy.sqrt(tao)\n",
    "    put=k*sympy.exp(-r*tao)*normcdf(-d2)-s*sympy.exp(-d*tao)*normcdf(-d1)\n",
    "    return put\n",
    "\n"
   ]
  },
  {
   "cell_type": "code",
   "execution_count": null,
   "metadata": {},
   "outputs": [],
   "source": [
    "float(Euro_call(s,k[i],vol,t,rf,d)-callMean[i],vol,0.1))"
   ]
  },
  {
   "cell_type": "code",
   "execution_count": 2,
   "metadata": {},
   "outputs": [
    {
     "name": "stdout",
     "output_type": "stream",
     "text": [
      "C:\\Users\\HP\n"
     ]
    }
   ],
   "source": [
    "cd"
   ]
  },
  {
   "cell_type": "code",
   "execution_count": 3,
   "metadata": {},
   "outputs": [],
   "source": [
    "import csv\n",
    "with open('C:\\\\Users\\\\HP\\\\Desktop\\\\AMZN_mar20_opt_quotes_20200220.csv','r') as f:\n",
    "    reader=csv.reader(f)\n",
    "    r=list(reader)\n",
    "    "
   ]
  },
  {
   "cell_type": "code",
   "execution_count": 4,
   "metadata": {},
   "outputs": [],
   "source": [
    "t=float(r[3][1])\n",
    "s=float(r[4][1])\n",
    "d=float(r[5][1])\n",
    "rf=float(r[6][1])\n"
   ]
  },
  {
   "cell_type": "code",
   "execution_count": 5,
   "metadata": {},
   "outputs": [],
   "source": [
    "callMean=[]\n",
    "k=[]\n",
    "putMean=[]"
   ]
  },
  {
   "cell_type": "code",
   "execution_count": 10,
   "metadata": {},
   "outputs": [],
   "source": [
    "for i in r[8:-13]:\n",
    "    #change everything to float in a list\n",
    "    v=list(map(float,i))\n",
    "    callMean.append((v[0]+v[1])/2)\n",
    "    putMean.append((v[3]+v[4])/2)\n",
    "    k.append(v[2])"
   ]
  },
  {
   "cell_type": "code",
   "execution_count": 11,
   "metadata": {
    "scrolled": true
   },
   "outputs": [],
   "source": [
    "CallImpVol=[]\n",
    "PutImpVol=[]"
   ]
  },
  {
   "cell_type": "code",
   "execution_count": 12,
   "metadata": {},
   "outputs": [],
   "source": [
    "for i in range(len(k)):\n",
    "    CallImpVol.append(nsolve(Euro_call(s,k[i],vol,t,rf,d)-callMean[i],vol,0.1))\n",
    "    PutImpVol.append(nsolve(Euro_put(s,k[i],vol,t,rf,d)-putMean[i],vol,0.1))\n",
    "    "
   ]
  },
  {
   "cell_type": "code",
   "execution_count": 17,
   "metadata": {},
   "outputs": [],
   "source": [
    "    part1=r[7:-13]\n",
    "    part2=[['CallImpVol','PutImpVol']]\n",
    "    for i in range(len(CallImpVol)):\n",
    "        \n",
    "        part2.append([CallImpVol[i],PutImpVol[i]])\n",
    "    "
   ]
  },
  {
   "cell_type": "code",
   "execution_count": 34,
   "metadata": {},
   "outputs": [],
   "source": [
    "listzipped=part1+part2\n"
   ]
  },
  {
   "cell_type": "code",
   "execution_count": 45,
   "metadata": {},
   "outputs": [],
   "source": [
    "import numpy as np\n",
    "#use numpy to get the right form to output\n",
    "array=np.array(listzipped)\n",
    "a=np.array([array[0:51]+array[52:103]])\n",
    "b=a.tolist()"
   ]
  },
  {
   "cell_type": "code",
   "execution_count": 49,
   "metadata": {
    "scrolled": true
   },
   "outputs": [],
   "source": [
    "with open('output.csv','w',newline='') as f:\n",
    "    writer=csv.writer(f)\n",
    "    for i in b:\n",
    "        for j in i:\n",
    "            writer.writerow(j)\n",
    "    \n"
   ]
  },
  {
   "cell_type": "code",
   "execution_count": 6,
   "metadata": {},
   "outputs": [
    {
     "data": {
      "text/plain": [
       "[['Symbol', 'AMZN', '', '', ''],\n",
       " ['ValuationDate', '20-Feb-20', '', '', ''],\n",
       " ['Expiry', '20-Mar-20', '', '', ''],\n",
       " ['T', '0.0776', '', '', ''],\n",
       " ['StockPrice', '2153', '', '', ''],\n",
       " ['Dividend', '0', '', '', ''],\n",
       " ['RiskFree', '0.016', '', '', ''],\n",
       " ['Bid', 'Ask', 'StrikePrice', 'Bid', 'Ask'],\n",
       " ['164.25', '167.1', '2000', '9.5', '10'],\n",
       " ['159', '163.6', '2005', '10.2', '10.65'],\n",
       " ['156.2', '158.55', '2010', '10.75', '11.2'],\n",
       " ['150.75', '154.45', '2015', '11.4', '11.9'],\n",
       " ['147.4', '149.85', '2020', '12.1', '12.6'],\n",
       " ['142.25', '146.65', '2025', '12.8', '13.35'],\n",
       " ['138.05', '142.25', '2030', '13.75', '14.3'],\n",
       " ['133.5', '138.1', '2035', '14.45', '15.05'],\n",
       " ['130.55', '133.2', '2040', '15.25', '15.95'],\n",
       " ['126.9', '129.3', '2045', '16.25', '16.95'],\n",
       " ['122.8', '125.25', '2050', '17.3', '17.95'],\n",
       " ['117.9', '122.6', '2055', '18.35', '19.05'],\n",
       " ['115.45', '117.4', '2060', '19.4', '20.2'],\n",
       " ['111.3', '113.55', '2065', '20.8', '21.5'],\n",
       " ['106.55', '110', '2070', '21.9', '22.65'],\n",
       " ['103.8', '106.1', '2075', '23.1', '24.1'],\n",
       " ['99.55', '102.5', '2080', '24.55', '25.4'],\n",
       " ['95.7', '99.05', '2085', '26', '27.1'],\n",
       " ['92.2', '95.65', '2090', '27.45', '28.4'],\n",
       " ['89.8', '92.05', '2095', '29.15', '30.15'],\n",
       " ['86.45', '88.7', '2100', '30.6', '31.65'],\n",
       " ['82.6', '86.65', '2105', '32.45', '33.65'],\n",
       " ['79.6', '83.4', '2110', '34.05', '35.15'],\n",
       " ['76.3', '80.2', '2115', '35.95', '37'],\n",
       " ['73.95', '75.9', '2120', '37.8', '38.95'],\n",
       " ['71.1', '72.35', '2125', '39.8', '40.95'],\n",
       " ['68', '69.6', '2130', '41.75', '42.95'],\n",
       " ['64.95', '66.75', '2135', '43.75', '45.5'],\n",
       " ['62.25', '63.95', '2140', '46.55', '47.55'],\n",
       " ['59.75', '61.45', '2145', '48.45', '49.65'],\n",
       " ['57.1', '58', '2150', '50.85', '52.15'],\n",
       " ['54.6', '56.25', '2155', '53.25', '54.5'],\n",
       " ['52.25', '53.7', '2160', '55.95', '57.15'],\n",
       " ['49.95', '51.25', '2165', '58.5', '59.75'],\n",
       " ['47.55', '48.9', '2170', '61', '62.7'],\n",
       " ['45.4', '46.7', '2175', '63.85', '65.15'],\n",
       " ['43.25', '44.5', '2180', '66.6', '68.1'],\n",
       " ['41.25', '42.35', '2185', '68.5', '71.75'],\n",
       " ['39.3', '40.35', '2190', '72.5', '74.25'],\n",
       " ['37', '38.5', '2195', '75.75', '77.25'],\n",
       " ['35.45', '36.5', '2200', '79', '80.25'],\n",
       " ['32.15', '33', '2210', '84.4', '87.75'],\n",
       " ['28.9', '29.55', '2220', '91.25', '94.75'],\n",
       " ['26.1', '26.9', '2230', '99.3', '102.15'],\n",
       " ['23.35', '24.35', '2240', '106.1', '109.6'],\n",
       " ['21.1', '21.6', '2250', '113.9', '117.3'],\n",
       " ['19', '19.55', '2260', '121.1', '125.25'],\n",
       " ['17.1', '17.6', '2270', '128.2', '133.4'],\n",
       " ['15.3', '15.85', '2280', '136.4', '141.9'],\n",
       " ['13.65', '14.25', '2290', '145', '150.2'],\n",
       " ['12.35', '12.8', '2300', '153.7', '158.8'],\n",
       " ['', '', '', '', ''],\n",
       " ['', '', '', '', ''],\n",
       " ['', '', '', '', ''],\n",
       " ['', '', '', '', ''],\n",
       " ['', '', '', '', ''],\n",
       " ['', '', '', '', ''],\n",
       " ['', '', '', '', ''],\n",
       " ['', '', '', '', ''],\n",
       " ['', '', '', '', ''],\n",
       " ['', '', '', '', ''],\n",
       " ['', '', '', '', ''],\n",
       " ['', '', '', '', ''],\n",
       " ['', '', '', '', '']]"
      ]
     },
     "execution_count": 6,
     "metadata": {},
     "output_type": "execute_result"
    }
   ],
   "source": [
    "r"
   ]
  },
  {
   "cell_type": "code",
   "execution_count": null,
   "metadata": {},
   "outputs": [],
   "source": []
  }
 ],
 "metadata": {
  "kernelspec": {
   "display_name": "Python 3",
   "language": "python",
   "name": "python3"
  },
  "language_info": {
   "codemirror_mode": {
    "name": "ipython",
    "version": 3
   },
   "file_extension": ".py",
   "mimetype": "text/x-python",
   "name": "python",
   "nbconvert_exporter": "python",
   "pygments_lexer": "ipython3",
   "version": "3.7.4"
  }
 },
 "nbformat": 4,
 "nbformat_minor": 2
}
