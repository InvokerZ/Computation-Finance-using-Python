{
 "cells": [
  {
   "cell_type": "code",
   "execution_count": 7,
   "metadata": {},
   "outputs": [
    {
     "name": "stdout",
     "output_type": "stream",
     "text": [
      "C:\\Users\\HP\n"
     ]
    }
   ],
   "source": [
    "cd"
   ]
  },
  {
   "cell_type": "code",
   "execution_count": 1,
   "metadata": {},
   "outputs": [],
   "source": [
    "import os"
   ]
  },
  {
   "cell_type": "code",
   "execution_count": 2,
   "metadata": {},
   "outputs": [
    {
     "data": {
      "text/plain": [
       "'C:\\\\Users\\\\HP'"
      ]
     },
     "execution_count": 2,
     "metadata": {},
     "output_type": "execute_result"
    }
   ],
   "source": [
    "os.getcwd()"
   ]
  },
  {
   "cell_type": "code",
   "execution_count": 3,
   "metadata": {},
   "outputs": [],
   "source": [
    "path='C:\\\\Users\\\\HP\\\\Desktop'"
   ]
  },
  {
   "cell_type": "code",
   "execution_count": 4,
   "metadata": {},
   "outputs": [],
   "source": [
    "os.chdir(path)"
   ]
  },
  {
   "cell_type": "code",
   "execution_count": 5,
   "metadata": {},
   "outputs": [
    {
     "data": {
      "text/plain": [
       "'C:\\\\Users\\\\HP\\\\Desktop'"
      ]
     },
     "execution_count": 5,
     "metadata": {},
     "output_type": "execute_result"
    }
   ],
   "source": [
    "os.getcwd()"
   ]
  },
  {
   "cell_type": "code",
   "execution_count": 6,
   "metadata": {},
   "outputs": [],
   "source": [
    "import csv"
   ]
  },
  {
   "cell_type": "code",
   "execution_count": 7,
   "metadata": {},
   "outputs": [],
   "source": [
    "with open('TreasuryYieldCrv20200212.csv','r') as csvFile1:\n",
    "    reader=csv.reader(csvFile1)\n",
    "    r=list(reader)"
   ]
  },
  {
   "cell_type": "code",
   "execution_count": 8,
   "metadata": {},
   "outputs": [
    {
     "name": "stdout",
     "output_type": "stream",
     "text": [
      "[['T', 'Yield'], ['0.083333333', '1.57'], ['0.166666667', '1.59'], ['0.25', '1.58'], ['0.5', '1.56'], ['1', '1.49'], ['2', '1.44'], ['3', '1.42'], ['5', '1.45'], ['7', '1.55'], ['10', '1.62'], ['20', '1.93'], ['30', '2.09']]\n"
     ]
    }
   ],
   "source": [
    "print(r)"
   ]
  },
  {
   "cell_type": "code",
   "execution_count": 9,
   "metadata": {},
   "outputs": [],
   "source": [
    "column1=[]\n",
    "column2=[]"
   ]
  },
  {
   "cell_type": "code",
   "execution_count": 10,
   "metadata": {},
   "outputs": [],
   "source": [
    "for row in range(len(r)):\n",
    "    column1.append(r[row][0])\n",
    "    column2.append(r[row][1])"
   ]
  },
  {
   "cell_type": "code",
   "execution_count": 20,
   "metadata": {},
   "outputs": [],
   "source": [
    "class Curve_base:\n",
    "    def __init__(self,x,y):\n",
    "        #make sure you check x and y list have the same length using exception\n",
    "        if  len(x)!=len(y):\n",
    "            \n",
    "            raise Exception('The length of two data should be the same!!')\n",
    "            \n",
    "        self.x=x\n",
    "        self.y=y\n",
    "        number=len(x)\n",
    "        \n",
    "            \n",
    "    def _str_(self):\n",
    "        return{'Maturity':self.x[1:],'Yield':self.y[1:]}\n",
    "    def _repr_(self):\n",
    "        return{'Maturity':str(self.x[1:]),'Yield':str(self.y[1:])}\n",
    "    def _call_(self,xValue):\n",
    "        #print(__name__)\n",
    "        for index,v in enumerate(self.x[1:]):\n",
    "            if float(v)>xValue:\n",
    "                mark=index\n",
    "                break;\n",
    "                #print(mark)\n",
    "                #find the biggest number's index that smaller than the given xValue\n",
    "        temp_y=float(self.y[mark])+(float(self.y[mark+1])-float(self.y[mark]))*(xValue-float(self.x[mark]))/(float(self.x[mark+1])-float(self.x[mark]))\n",
    "        #linearinterprepolation\n",
    "        return  print('interpolated yield is '+str(temp_y))    \n",
    "            "
   ]
  },
  {
   "cell_type": "code",
   "execution_count": 21,
   "metadata": {},
   "outputs": [],
   "source": [
    "C1=Curve_base(column1,column2)"
   ]
  },
  {
   "cell_type": "code",
   "execution_count": 23,
   "metadata": {},
   "outputs": [],
   "source": [
    "class FwdYldCurve(Curve_base):\n",
    "    def __init__(self,x,y):\n",
    "        #get the constructor from the base\n",
    "        super().__init__(x,y)"
   ]
  },
  {
   "cell_type": "code",
   "execution_count": 63,
   "metadata": {},
   "outputs": [],
   "source": [
    "class ParYldCurve(Curve_base):\n",
    "    def __init__(self,x,y):\n",
    "        super().__init__(x,y)\n",
    "    def fwdRate(self,t,T,TT):\n",
    "        #current time:t------------Time T's spot rate:r---------------Time TT's spot rate :rTT-------\n",
    "        #rF:at current time t,the forward rate of time from T to TT\n",
    "        \n",
    "            if(t>T or T>TT):\n",
    "                raise Exception('woops, your time set is wrong')\n",
    "            try:\n",
    "                for index,v in  enumerate(self.x[1:]):\n",
    "                    if float(v)==t:\n",
    "                        index1=index+1\n",
    "                    if float(v)==T:\n",
    "                        index2=index+1\n",
    "                    if float(v)==TT:\n",
    "                        index3=index+1\n",
    "            #formula is exp(r*(T-t))*exp(rF*(TT-T))=exp(rTT(TT-t))\n",
    "                rF=(float(self.y[index3])*(float(self.x[index3])-float(self.x[index1]))-float(self.y[index2])*(float(self.x[index2])-float(self.x[index1])))/(float(self.x[index3])-float(self.x[index2]))\n",
    "                return('Forward Rate is '+str(rF))                                                                                                                                          \n",
    "            except(UnboundLocalError) as e :\n",
    "                #make sure every input can be found in csv \n",
    "                    print(\"you have inputed a number(T) which doesn't exist in the csv:\"+str(e))\n",
    "                    "
   ]
  },
  {
   "cell_type": "code",
   "execution_count": 107,
   "metadata": {},
   "outputs": [
    {
     "data": {
      "text/plain": [
       "'__main__'"
      ]
     },
     "execution_count": 107,
     "metadata": {},
     "output_type": "execute_result"
    }
   ],
   "source": [
    "#test if this python program is being run by itself\n",
    "__name__"
   ]
  },
  {
   "cell_type": "code",
   "execution_count": 94,
   "metadata": {},
   "outputs": [],
   "source": [
    "par=ParYldCurve(column1,column2)\n"
   ]
  },
  {
   "cell_type": "code",
   "execution_count": 95,
   "metadata": {},
   "outputs": [],
   "source": [
    "column_for_fwd1=[]\n",
    "column_for_fwd2=[]"
   ]
  },
  {
   "cell_type": "code",
   "execution_count": 97,
   "metadata": {},
   "outputs": [
    {
     "name": "stdout",
     "output_type": "stream",
     "text": [
      "at current time :0.083333333 ,the forward rate from time 0.166666667 to time 0.25 is Forward Rate is 1.5699999998799998\n",
      "at current time :0.083333333 ,the forward rate from time 0.166666667 to time 0.5 is Forward Rate is 1.5524999999324998\n",
      "at current time :0.083333333 ,the forward rate from time 0.166666667 to time 1 is Forward Rate is 1.479999999916\n",
      "at current time :0.083333333 ,the forward rate from time 0.166666667 to time 2 is Forward Rate is 1.433181818126033\n",
      "at current time :0.083333333 ,the forward rate from time 0.166666667 to time 3 is Forward Rate is 1.4149999999594116\n",
      "at current time :0.083333333 ,the forward rate from time 0.166666667 to time 5 is Forward Rate is 1.447586206877075\n",
      "at current time :0.083333333 ,the forward rate from time 0.166666667 to time 7 is Forward Rate is 1.549512195118025\n",
      "at current time :0.083333333 ,the forward rate from time 0.166666667 to time 10 is Forward Rate is 1.620254237290178\n",
      "at current time :0.083333333 ,the forward rate from time 0.166666667 to time 20 is Forward Rate is 1.931428571440024\n",
      "at current time :0.083333333 ,the forward rate from time 0.166666667 to time 30 is Forward Rate is 2.0913966480558814\n",
      "at current time :0.083333333 ,the forward rate from time 0.25 to time 0.5 is Forward Rate is 1.5466666666399997\n",
      "at current time :0.083333333 ,the forward rate from time 0.25 to time 1 is Forward Rate is 1.46999999996\n",
      "at current time :0.083333333 ,the forward rate from time 0.25 to time 2 is Forward Rate is 1.4266666666399999\n",
      "at current time :0.083333333 ,the forward rate from time 0.25 to time 3 is Forward Rate is 1.4103030302836363\n",
      "at current time :0.083333333 ,the forward rate from time 0.25 to time 5 is Forward Rate is 1.4454385964821053\n",
      "at current time :0.083333333 ,the forward rate from time 0.25 to time 7 is Forward Rate is 1.5492592592577779\n",
      "at current time :0.083333333 ,the forward rate from time 0.25 to time 10 is Forward Rate is 1.620683760685128\n",
      "at current time :0.083333333 ,the forward rate from time 0.25 to time 20 is Forward Rate is 1.9329535865037974\n",
      "at current time :0.083333333 ,the forward rate from time 0.25 to time 30 is Forward Rate is 2.092857142862857\n",
      "at current time :0.083333333 ,the forward rate from time 0.5 to time 1 is Forward Rate is 1.43166666662\n",
      "at current time :0.083333333 ,the forward rate from time 0.5 to time 2 is Forward Rate is 1.4066666666399998\n",
      "at current time :0.083333333 ,the forward rate from time 0.5 to time 3 is Forward Rate is 1.396666666648\n",
      "at current time :0.083333333 ,the forward rate from time 0.5 to time 5 is Forward Rate is 1.4398148148066667\n",
      "at current time :0.083333333 ,the forward rate from time 0.5 to time 7 is Forward Rate is 1.5493589743584617\n",
      "at current time :0.083333333 ,the forward rate from time 0.5 to time 10 is Forward Rate is 1.6226315789494736\n",
      "at current time :0.083333333 ,the forward rate from time 0.5 to time 20 is Forward Rate is 1.9379059829123075\n",
      "at current time :0.083333333 ,the forward rate from time 0.5 to time 30 is Forward Rate is 2.097485875712203\n",
      "at current time :0.083333333 ,the forward rate from time 1 to time 2 is Forward Rate is 1.3941666666499999\n",
      "at current time :0.083333333 ,the forward rate from time 1 to time 3 is Forward Rate is 1.387916666655\n",
      "at current time :0.083333333 ,the forward rate from time 1 to time 5 is Forward Rate is 1.44083333333\n",
      "at current time :0.083333333 ,the forward rate from time 1 to time 7 is Forward Rate is 1.5591666666700001\n",
      "at current time :0.083333333 ,the forward rate from time 1 to time 10 is Forward Rate is 1.6332407407455554\n",
      "at current time :0.083333333 ,the forward rate from time 1 to time 20 is Forward Rate is 1.951228070183158\n",
      "at current time :0.083333333 ,the forward rate from time 1 to time 30 is Forward Rate is 2.1089655172482757\n",
      "at current time :0.083333333 ,the forward rate from time 2 to time 3 is Forward Rate is 1.3816666666600002\n",
      "at current time :0.083333333 ,the forward rate from time 2 to time 5 is Forward Rate is 1.4563888888900003\n",
      "at current time :0.083333333 ,the forward rate from time 2 to time 7 is Forward Rate is 1.5921666666740002\n",
      "at current time :0.083333333 ,the forward rate from time 2 to time 10 is Forward Rate is 1.6631250000075\n",
      "at current time :0.083333333 ,the forward rate from time 2 to time 20 is Forward Rate is 1.982175925935\n",
      "at current time :0.083333333 ,the forward rate from time 2 to time 30 is Forward Rate is 2.1344940476267857\n",
      "at current time :0.083333333 ,the forward rate from time 3 to time 5 is Forward Rate is 1.4937500000050004\n",
      "at current time :0.083333333 ,the forward rate from time 3 to time 7 is Forward Rate is 1.6447916666775002\n",
      "at current time :0.083333333 ,the forward rate from time 3 to time 10 is Forward Rate is 1.7033333333428569\n",
      "at current time :0.083333333 ,the forward rate from time 3 to time 20 is Forward Rate is 2.0175000000099996\n",
      "at current time :0.083333333 ,the forward rate from time 3 to time 30 is Forward Rate is 2.162376543218148\n",
      "at current time :0.083333333 ,the forward rate from time 5 to time 7 is Forward Rate is 1.79583333335\n",
      "at current time :0.083333333 ,the forward rate from time 5 to time 10 is Forward Rate is 1.7871666666779997\n",
      "at current time :0.083333333 ,the forward rate from time 5 to time 20 is Forward Rate is 2.0873333333439996\n",
      "at current time :0.083333333 ,the forward rate from time 5 to time 30 is Forward Rate is 2.2158666666751996\n",
      "at current time :0.083333333 ,the forward rate from time 7 to time 10 is Forward Rate is 1.7813888888966662\n",
      "at current time :0.083333333 ,the forward rate from time 7 to time 20 is Forward Rate is 2.1321794871892306\n",
      "at current time :0.083333333 ,the forward rate from time 7 to time 30 is Forward Rate is 2.252391304355652\n",
      "at current time :0.083333333 ,the forward rate from time 10 to time 20 is Forward Rate is 2.237416666677\n",
      "at current time :0.083333333 ,the forward rate from time 10 to time 30 is Forward Rate is 2.3230416666745\n",
      "at current time :0.083333333 ,the forward rate from time 20 to time 30 is Forward Rate is 2.408666666672\n",
      "at current time :0.166666667 ,the forward rate from time 0.25 to time 0.5 is Forward Rate is 1.5533333333600003\n",
      "at current time :0.166666667 ,the forward rate from time 0.25 to time 1 is Forward Rate is 1.4800000000399998\n",
      "at current time :0.166666667 ,the forward rate from time 0.25 to time 2 is Forward Rate is 1.43333333336\n",
      "at current time :0.166666667 ,the forward rate from time 0.25 to time 3 is Forward Rate is 1.415151515170909\n",
      "at current time :0.166666667 ,the forward rate from time 0.25 to time 5 is Forward Rate is 1.4477192982547367\n",
      "at current time :0.166666667 ,the forward rate from time 0.25 to time 7 is Forward Rate is 1.5496296296311112\n",
      "at current time :0.166666667 ,the forward rate from time 0.25 to time 10 is Forward Rate is 1.620341880340513\n",
      "at current time :0.166666667 ,the forward rate from time 0.25 to time 20 is Forward Rate is 1.931476793243038\n",
      "at current time :0.166666667 ,the forward rate from time 0.25 to time 30 is Forward Rate is 2.091428571422857\n",
      "at current time :0.166666667 ,the forward rate from time 0.5 to time 1 is Forward Rate is 1.4433333333799998\n",
      "at current time :0.166666667 ,the forward rate from time 0.5 to time 2 is Forward Rate is 1.41333333336\n",
      "at current time :0.166666667 ,the forward rate from time 0.5 to time 3 is Forward Rate is 1.401333333352\n",
      "at current time :0.166666667 ,the forward rate from time 0.5 to time 5 is Forward Rate is 1.4418518518599999\n",
      "at current time :0.166666667 ,the forward rate from time 0.5 to time 7 is Forward Rate is 1.5494871794876923\n",
      "at current time :0.166666667 ,the forward rate from time 0.5 to time 10 is Forward Rate is 1.6221052631557897\n",
      "at current time :0.166666667 ,the forward rate from time 0.5 to time 20 is Forward Rate is 1.9363247863184614\n",
      "at current time :0.166666667 ,the forward rate from time 0.5 to time 30 is Forward Rate is 2.095988700558983\n",
      "at current time :0.166666667 ,the forward rate from time 1 to time 2 is Forward Rate is 1.39833333335\n",
      "at current time :0.166666667 ,the forward rate from time 1 to time 3 is Forward Rate is 1.390833333345\n",
      "at current time :0.166666667 ,the forward rate from time 1 to time 5 is Forward Rate is 1.4416666666699998\n",
      "at current time :0.166666667 ,the forward rate from time 1 to time 7 is Forward Rate is 1.55833333333\n",
      "at current time :0.166666667 ,the forward rate from time 1 to time 10 is Forward Rate is 1.6320370370322224\n",
      "at current time :0.166666667 ,the forward rate from time 1 to time 20 is Forward Rate is 1.9492982456063157\n",
      "at current time :0.166666667 ,the forward rate from time 1 to time 30 is Forward Rate is 2.1072413793034483\n",
      "at current time :0.166666667 ,the forward rate from time 2 to time 3 is Forward Rate is 1.38333333334\n",
      "at current time :0.166666667 ,the forward rate from time 2 to time 5 is Forward Rate is 1.45611111111\n",
      "at current time :0.166666667 ,the forward rate from time 2 to time 7 is Forward Rate is 1.5903333333259997\n",
      "at current time :0.166666667 ,the forward rate from time 2 to time 10 is Forward Rate is 1.6612499999925001\n",
      "at current time :0.166666667 ,the forward rate from time 2 to time 20 is Forward Rate is 1.9799074073983332\n",
      "at current time :0.166666667 ,the forward rate from time 2 to time 30 is Forward Rate is 2.1325595238017856\n",
      "at current time :0.166666667 ,the forward rate from time 3 to time 5 is Forward Rate is 1.4924999999949997\n",
      "at current time :0.166666667 ,the forward rate from time 3 to time 7 is Forward Rate is 1.6420833333224998\n",
      "at current time :0.166666667 ,the forward rate from time 3 to time 10 is Forward Rate is 1.7009523809428573\n",
      "at current time :0.166666667 ,the forward rate from time 3 to time 20 is Forward Rate is 2.0149999999899997\n",
      "at current time :0.166666667 ,the forward rate from time 3 to time 30 is Forward Rate is 2.160308641967037\n",
      "at current time :0.166666667 ,the forward rate from time 5 to time 7 is Forward Rate is 1.7916666666499999\n",
      "at current time :0.166666667 ,the forward rate from time 5 to time 10 is Forward Rate is 1.7843333333220002\n",
      "at current time :0.166666667 ,the forward rate from time 5 to time 20 is Forward Rate is 2.0846666666559996\n",
      "at current time :0.166666667 ,the forward rate from time 5 to time 30 is Forward Rate is 2.2137333333247997\n",
      "at current time :0.166666667 ,the forward rate from time 7 to time 10 is Forward Rate is 1.7794444444366675\n",
      "at current time :0.166666667 ,the forward rate from time 7 to time 20 is Forward Rate is 2.129743589733846\n",
      "at current time :0.166666667 ,the forward rate from time 7 to time 30 is Forward Rate is 2.2504347826008693\n",
      "at current time :0.166666667 ,the forward rate from time 10 to time 20 is Forward Rate is 2.2348333333229995\n",
      "at current time :0.166666667 ,the forward rate from time 10 to time 30 is Forward Rate is 2.3210833333254994\n",
      "at current time :0.166666667 ,the forward rate from time 20 to time 30 is Forward Rate is 2.407333333328\n",
      "at current time :0.25 ,the forward rate from time 0.5 to time 1 is Forward Rate is 1.4549999999999998\n",
      "at current time :0.25 ,the forward rate from time 0.5 to time 2 is Forward Rate is 1.42\n",
      "at current time :0.25 ,the forward rate from time 0.5 to time 3 is Forward Rate is 1.406\n",
      "at current time :0.25 ,the forward rate from time 0.5 to time 5 is Forward Rate is 1.443888888888889\n",
      "at current time :0.25 ,the forward rate from time 0.5 to time 7 is Forward Rate is 1.5496153846153846\n",
      "at current time :0.25 ,the forward rate from time 0.5 to time 10 is Forward Rate is 1.6215789473684212\n",
      "at current time :0.25 ,the forward rate from time 0.5 to time 20 is Forward Rate is 1.9347435897435896\n",
      "at current time :0.25 ,the forward rate from time 0.5 to time 30 is Forward Rate is 2.0944915254237286\n",
      "at current time :0.25 ,the forward rate from time 1 to time 2 is Forward Rate is 1.4025\n",
      "at current time :0.25 ,the forward rate from time 1 to time 3 is Forward Rate is 1.3937499999999998\n",
      "at current time :0.25 ,the forward rate from time 1 to time 5 is Forward Rate is 1.4425000000000001\n",
      "at current time :0.25 ,the forward rate from time 1 to time 7 is Forward Rate is 1.5575\n",
      "at current time :0.25 ,the forward rate from time 1 to time 10 is Forward Rate is 1.6308333333333336\n",
      "at current time :0.25 ,the forward rate from time 1 to time 20 is Forward Rate is 1.9473684210526316\n",
      "at current time :0.25 ,the forward rate from time 1 to time 30 is Forward Rate is 2.10551724137931\n",
      "at current time :0.25 ,the forward rate from time 2 to time 3 is Forward Rate is 1.3849999999999998\n",
      "at current time :0.25 ,the forward rate from time 2 to time 5 is Forward Rate is 1.4558333333333333\n",
      "at current time :0.25 ,the forward rate from time 2 to time 7 is Forward Rate is 1.5885000000000002\n",
      "at current time :0.25 ,the forward rate from time 2 to time 10 is Forward Rate is 1.6593750000000003\n",
      "at current time :0.25 ,the forward rate from time 2 to time 20 is Forward Rate is 1.9776388888888887\n",
      "at current time :0.25 ,the forward rate from time 2 to time 30 is Forward Rate is 2.1306249999999998\n",
      "at current time :0.25 ,the forward rate from time 3 to time 5 is Forward Rate is 1.4912500000000002\n",
      "at current time :0.25 ,the forward rate from time 3 to time 7 is Forward Rate is 1.6393750000000002\n",
      "at current time :0.25 ,the forward rate from time 3 to time 10 is Forward Rate is 1.6985714285714288\n",
      "at current time :0.25 ,the forward rate from time 3 to time 20 is Forward Rate is 2.0124999999999997\n",
      "at current time :0.25 ,the forward rate from time 3 to time 30 is Forward Rate is 2.1582407407407405\n",
      "at current time :0.25 ,the forward rate from time 5 to time 7 is Forward Rate is 1.7875\n",
      "at current time :0.25 ,the forward rate from time 5 to time 10 is Forward Rate is 1.7815000000000005\n",
      "at current time :0.25 ,the forward rate from time 5 to time 20 is Forward Rate is 2.082\n",
      "at current time :0.25 ,the forward rate from time 5 to time 30 is Forward Rate is 2.2116\n",
      "at current time :0.25 ,the forward rate from time 7 to time 10 is Forward Rate is 1.7775000000000005\n",
      "at current time :0.25 ,the forward rate from time 7 to time 20 is Forward Rate is 2.1273076923076926\n",
      "at current time :0.25 ,the forward rate from time 7 to time 30 is Forward Rate is 2.248478260869565\n",
      "at current time :0.25 ,the forward rate from time 10 to time 20 is Forward Rate is 2.2322499999999996\n",
      "at current time :0.25 ,the forward rate from time 10 to time 30 is Forward Rate is 2.3191249999999997\n",
      "at current time :0.25 ,the forward rate from time 20 to time 30 is Forward Rate is 2.4059999999999997\n",
      "at current time :0.5 ,the forward rate from time 1 to time 2 is Forward Rate is 1.415\n",
      "at current time :0.5 ,the forward rate from time 1 to time 3 is Forward Rate is 1.4024999999999999\n",
      "at current time :0.5 ,the forward rate from time 1 to time 5 is Forward Rate is 1.4449999999999998\n",
      "at current time :0.5 ,the forward rate from time 1 to time 7 is Forward Rate is 1.5550000000000004\n",
      "at current time :0.5 ,the forward rate from time 1 to time 10 is Forward Rate is 1.6272222222222223\n",
      "at current time :0.5 ,the forward rate from time 1 to time 20 is Forward Rate is 1.941578947368421\n",
      "at current time :0.5 ,the forward rate from time 1 to time 30 is Forward Rate is 2.100344827586207\n",
      "at current time :0.5 ,the forward rate from time 2 to time 3 is Forward Rate is 1.3899999999999997\n",
      "at current time :0.5 ,the forward rate from time 2 to time 5 is Forward Rate is 1.4549999999999998\n",
      "at current time :0.5 ,the forward rate from time 2 to time 7 is Forward Rate is 1.5830000000000002\n",
      "at current time :0.5 ,the forward rate from time 2 to time 10 is Forward Rate is 1.65375\n",
      "at current time :0.5 ,the forward rate from time 2 to time 20 is Forward Rate is 1.970833333333333\n",
      "at current time :0.5 ,the forward rate from time 2 to time 30 is Forward Rate is 2.1248214285714284\n",
      "at current time :0.5 ,the forward rate from time 3 to time 5 is Forward Rate is 1.4874999999999998\n",
      "at current time :0.5 ,the forward rate from time 3 to time 7 is Forward Rate is 1.6312500000000003\n",
      "at current time :0.5 ,the forward rate from time 3 to time 10 is Forward Rate is 1.6914285714285715\n",
      "at current time :0.5 ,the forward rate from time 3 to time 20 is Forward Rate is 2.005\n",
      "at current time :0.5 ,the forward rate from time 3 to time 30 is Forward Rate is 2.152037037037037\n",
      "at current time :0.5 ,the forward rate from time 5 to time 7 is Forward Rate is 1.7750000000000008\n",
      "at current time :0.5 ,the forward rate from time 5 to time 10 is Forward Rate is 1.7730000000000004\n",
      "at current time :0.5 ,the forward rate from time 5 to time 20 is Forward Rate is 2.074\n",
      "at current time :0.5 ,the forward rate from time 5 to time 30 is Forward Rate is 2.2051999999999996\n",
      "at current time :0.5 ,the forward rate from time 7 to time 10 is Forward Rate is 1.7716666666666665\n",
      "at current time :0.5 ,the forward rate from time 7 to time 20 is Forward Rate is 2.1199999999999997\n",
      "at current time :0.5 ,the forward rate from time 7 to time 30 is Forward Rate is 2.2426086956521734\n",
      "at current time :0.5 ,the forward rate from time 10 to time 20 is Forward Rate is 2.2245\n",
      "at current time :0.5 ,the forward rate from time 10 to time 30 is Forward Rate is 2.3132499999999996\n",
      "at current time :0.5 ,the forward rate from time 20 to time 30 is Forward Rate is 2.4019999999999997\n",
      "at current time :1 ,the forward rate from time 2 to time 3 is Forward Rate is 1.4\n",
      "at current time :1 ,the forward rate from time 2 to time 5 is Forward Rate is 1.4533333333333331\n",
      "at current time :1 ,the forward rate from time 2 to time 7 is Forward Rate is 1.5720000000000003\n",
      "at current time :1 ,the forward rate from time 2 to time 10 is Forward Rate is 1.6425000000000003\n",
      "at current time :1 ,the forward rate from time 2 to time 20 is Forward Rate is 1.9572222222222224\n",
      "at current time :1 ,the forward rate from time 2 to time 30 is Forward Rate is 2.1132142857142857\n",
      "at current time :1 ,the forward rate from time 3 to time 5 is Forward Rate is 1.48\n",
      "at current time :1 ,the forward rate from time 3 to time 7 is Forward Rate is 1.6150000000000002\n",
      "at current time :1 ,the forward rate from time 3 to time 10 is Forward Rate is 1.6771428571428575\n",
      "at current time :1 ,the forward rate from time 3 to time 20 is Forward Rate is 1.99\n",
      "at current time :1 ,the forward rate from time 3 to time 30 is Forward Rate is 2.1396296296296295\n",
      "at current time :1 ,the forward rate from time 5 to time 7 is Forward Rate is 1.7500000000000004\n",
      "at current time :1 ,the forward rate from time 5 to time 10 is Forward Rate is 1.7560000000000002\n",
      "at current time :1 ,the forward rate from time 5 to time 20 is Forward Rate is 2.0580000000000003\n",
      "at current time :1 ,the forward rate from time 5 to time 30 is Forward Rate is 2.1924\n",
      "at current time :1 ,the forward rate from time 7 to time 10 is Forward Rate is 1.7600000000000005\n",
      "at current time :1 ,the forward rate from time 7 to time 20 is Forward Rate is 2.1053846153846156\n",
      "at current time :1 ,the forward rate from time 7 to time 30 is Forward Rate is 2.2308695652173913\n",
      "at current time :1 ,the forward rate from time 10 to time 20 is Forward Rate is 2.209\n",
      "at current time :1 ,the forward rate from time 10 to time 30 is Forward Rate is 2.3015\n",
      "at current time :1 ,the forward rate from time 20 to time 30 is Forward Rate is 2.3939999999999997\n",
      "at current time :2 ,the forward rate from time 3 to time 5 is Forward Rate is 1.4649999999999999\n",
      "at current time :2 ,the forward rate from time 3 to time 7 is Forward Rate is 1.5825\n",
      "at current time :2 ,the forward rate from time 3 to time 10 is Forward Rate is 1.6485714285714288\n",
      "at current time :2 ,the forward rate from time 3 to time 20 is Forward Rate is 1.96\n",
      "at current time :2 ,the forward rate from time 3 to time 30 is Forward Rate is 2.1148148148148147\n",
      "at current time :2 ,the forward rate from time 5 to time 7 is Forward Rate is 1.7000000000000002\n",
      "at current time :2 ,the forward rate from time 5 to time 10 is Forward Rate is 1.7220000000000002\n",
      "at current time :2 ,the forward rate from time 5 to time 20 is Forward Rate is 2.0260000000000002\n",
      "at current time :2 ,the forward rate from time 5 to time 30 is Forward Rate is 2.1668\n",
      "at current time :2 ,the forward rate from time 7 to time 10 is Forward Rate is 1.736666666666667\n",
      "at current time :2 ,the forward rate from time 7 to time 20 is Forward Rate is 2.0761538461538462\n",
      "at current time :2 ,the forward rate from time 7 to time 30 is Forward Rate is 2.207391304347826\n",
      "at current time :2 ,the forward rate from time 10 to time 20 is Forward Rate is 2.178\n",
      "at current time :2 ,the forward rate from time 10 to time 30 is Forward Rate is 2.2779999999999996\n",
      "at current time :2 ,the forward rate from time 20 to time 30 is Forward Rate is 2.3779999999999992\n",
      "at current time :3 ,the forward rate from time 5 to time 7 is Forward Rate is 1.6500000000000001\n",
      "at current time :3 ,the forward rate from time 5 to time 10 is Forward Rate is 1.688\n",
      "at current time :3 ,the forward rate from time 5 to time 20 is Forward Rate is 1.9940000000000002\n",
      "at current time :3 ,the forward rate from time 5 to time 30 is Forward Rate is 2.1411999999999995\n",
      "at current time :3 ,the forward rate from time 7 to time 10 is Forward Rate is 1.7133333333333332\n",
      "at current time :3 ,the forward rate from time 7 to time 20 is Forward Rate is 2.0469230769230773\n",
      "at current time :3 ,the forward rate from time 7 to time 30 is Forward Rate is 2.1839130434782605\n",
      "at current time :3 ,the forward rate from time 10 to time 20 is Forward Rate is 2.1470000000000002\n",
      "at current time :3 ,the forward rate from time 10 to time 30 is Forward Rate is 2.2544999999999993\n",
      "at current time :3 ,the forward rate from time 20 to time 30 is Forward Rate is 2.361999999999999\n",
      "at current time :5 ,the forward rate from time 7 to time 10 is Forward Rate is 1.6666666666666672\n",
      "at current time :5 ,the forward rate from time 7 to time 20 is Forward Rate is 1.9884615384615383\n",
      "at current time :5 ,the forward rate from time 7 to time 30 is Forward Rate is 2.13695652173913\n",
      "at current time :5 ,the forward rate from time 10 to time 20 is Forward Rate is 2.085\n",
      "at current time :5 ,the forward rate from time 10 to time 30 is Forward Rate is 2.2075\n",
      "at current time :5 ,the forward rate from time 20 to time 30 is Forward Rate is 2.33\n",
      "at current time :7 ,the forward rate from time 10 to time 20 is Forward Rate is 2.023\n",
      "at current time :7 ,the forward rate from time 10 to time 30 is Forward Rate is 2.1605\n",
      "at current time :7 ,the forward rate from time 20 to time 30 is Forward Rate is 2.297999999999999\n",
      "at current time :10 ,the forward rate from time 20 to time 30 is Forward Rate is 2.2499999999999996\n"
     ]
    }
   ],
   "source": [
    "for index1,v1 in enumerate(par.x[1:]):\n",
    "    for index2,v2 in enumerate(par.x[index1+2:]):\n",
    "        for index3,v3 in enumerate(par.x[index2+index1+3:]):\n",
    "            column_for_fwd1.append('at current time :'+str(v1)+' ,the forward rate from time '+str(v2)+' to time '+str(v3)+' is ')\n",
    "            column_for_fwd2.append(str(par.fwdRate(float(v1),float(v2),float(v3))))\n",
    "            print('at current time :'+str(v1)+' ,the forward rate from time '+str(v2)+' to time '+str(v3)+' is '+str(par.fwdRate(float(v1),float(v2),float(v3))))\n"
   ]
  },
  {
   "cell_type": "code",
   "execution_count": 105,
   "metadata": {},
   "outputs": [],
   "source": [
    "#Get the FwdYldCurve object from that ParYldCurve\n",
    "fwd=FwdYldCurve(column_for_fwd1,column_for_fwd2)"
   ]
  },
  {
   "cell_type": "code",
   "execution_count": 99,
   "metadata": {},
   "outputs": [],
   "source": [
    "#zip two list into one to put into csv file as columns\n",
    "zipped=zip( column_for_fwd1,column_for_fwd2)"
   ]
  },
  {
   "cell_type": "code",
   "execution_count": 100,
   "metadata": {},
   "outputs": [],
   "source": [
    "listzip=list(zipped)"
   ]
  },
  {
   "cell_type": "code",
   "execution_count": 111,
   "metadata": {},
   "outputs": [],
   "source": [
    "#add newline='' to avoid the blank row\n",
    "with open('20200212TreasuryFwdCrv.csv','w',newline='') as f:\n",
    "    writer=csv.writer(f)\n",
    "    for row in listzip:\n",
    "        writer.writerow(row)"
   ]
  },
  {
   "cell_type": "code",
   "execution_count": 108,
   "metadata": {},
   "outputs": [],
   "source": [
    "with open('result.out','w') as f:\n",
    "    f.write('The “interpolated” par yield for the list of maturities: [0.02, 0.1, 0.2, 0.3, 0.4, 0.5, 0.6, 0.7, 0.8, 0.9, 1.25, 1.5]')"
   ]
  },
  {
   "cell_type": "code",
   "execution_count": null,
   "metadata": {},
   "outputs": [],
   "source": []
  }
 ],
 "metadata": {
  "kernelspec": {
   "display_name": "Python 3",
   "language": "python",
   "name": "python3"
  },
  "language_info": {
   "codemirror_mode": {
    "name": "ipython",
    "version": 3
   },
   "file_extension": ".py",
   "mimetype": "text/x-python",
   "name": "python",
   "nbconvert_exporter": "python",
   "pygments_lexer": "ipython3",
   "version": "3.7.4"
  }
 },
 "nbformat": 4,
 "nbformat_minor": 2
}
