{
 "cells": [
  {
   "cell_type": "code",
   "execution_count": 7,
   "metadata": {},
   "outputs": [],
   "source": [
    "#monte-carlo to price the option\n",
    "import numpy as np\n",
    "s0,vol,tao,q,r=100,0.30,1,0,0\n"
   ]
  },
  {
   "cell_type": "code",
   "execution_count": 8,
   "metadata": {},
   "outputs": [],
   "source": [
    "#discount factor\n",
    "disc=np.exp(-r*tao)\n",
    "\n",
    "mu,sigma=(r-q-0.5*vol*vol)*tao,vol*np.sqrt(tao)"
   ]
  },
  {
   "cell_type": "code",
   "execution_count": 9,
   "metadata": {},
   "outputs": [
    {
     "data": {
      "text/plain": [
       "array([114.52936617,  88.81371544, 100.14521491,  87.41005208,\n",
       "       160.21874559,  75.19538393,  95.12339869, 121.13935226,\n",
       "        59.37368511, 104.47208007])"
      ]
     },
     "execution_count": 9,
     "metadata": {},
     "output_type": "execute_result"
    }
   ],
   "source": [
    "N=1000000\n",
    "n=int(N/10)\n",
    "s=s0*np.random.lognormal(mu,sigma,N)\n",
    "#lognormal([mean, sigma, size])\n",
    "s[::n]"
   ]
  },
  {
   "cell_type": "code",
   "execution_count": 91,
   "metadata": {},
   "outputs": [],
   "source": [
    "K=100\n",
    "call= lambda S: (S-K) if S>K else 0\n",
    "put=lambda S:(K-S) if S<K else 0"
   ]
  },
  {
   "cell_type": "code",
   "execution_count": 92,
   "metadata": {},
   "outputs": [],
   "source": [
    "v_call = np.vectorize(call)\n",
    "v_put=np.vectorize(put)"
   ]
  },
  {
   "cell_type": "code",
   "execution_count": 93,
   "metadata": {},
   "outputs": [
    {
     "data": {
      "text/plain": [
       "array([ 0,  0, 37,  0, 50,  5,  0, 11,  0,  0])"
      ]
     },
     "execution_count": 93,
     "metadata": {},
     "output_type": "execute_result"
    }
   ],
   "source": [
    "call_T = v_call(s)\n",
    "call_T[::n]\n"
   ]
  },
  {
   "cell_type": "code",
   "execution_count": 94,
   "metadata": {},
   "outputs": [
    {
     "data": {
      "text/plain": [
       "array([28.13725394,  2.50709064,  0.        , 23.5554642 ,  0.        ,\n",
       "        0.        , 29.49086791,  0.        , 48.93837437, 22.59705744])"
      ]
     },
     "execution_count": 94,
     "metadata": {},
     "output_type": "execute_result"
    }
   ],
   "source": [
    "put_T=v_put(s)\n",
    "put_T[::n]"
   ]
  },
  {
   "cell_type": "code",
   "execution_count": 95,
   "metadata": {},
   "outputs": [],
   "source": [
    "call_0=call_T.mean()*disc\n",
    "put_0=put_T.mean()*disc"
   ]
  },
  {
   "cell_type": "code",
   "execution_count": 96,
   "metadata": {},
   "outputs": [
    {
     "data": {
      "text/plain": [
       "11.93259298488614"
      ]
     },
     "execution_count": 96,
     "metadata": {},
     "output_type": "execute_result"
    }
   ],
   "source": [
    "put_0"
   ]
  },
  {
   "cell_type": "code",
   "execution_count": 97,
   "metadata": {},
   "outputs": [],
   "source": [
    "#Greeks--Delta\n",
    "np.random.seed(0)"
   ]
  },
  {
   "cell_type": "code",
   "execution_count": 98,
   "metadata": {},
   "outputs": [],
   "source": [
    "np.random.seed(1)\n",
    "\n",
    "s1 = s0*np.random.lognormal(mu,sigma,N)"
   ]
  },
  {
   "cell_type": "code",
   "execution_count": 99,
   "metadata": {},
   "outputs": [],
   "source": [
    "temp=s0+0.01\n",
    "\n",
    "\n"
   ]
  },
  {
   "cell_type": "code",
   "execution_count": 100,
   "metadata": {},
   "outputs": [],
   "source": [
    "np.random.seed(1)\n",
    "s2=temp*np.random.lognormal(mu,sigma,N)"
   ]
  },
  {
   "cell_type": "code",
   "execution_count": 101,
   "metadata": {},
   "outputs": [
    {
     "name": "stdout",
     "output_type": "stream",
     "text": [
      "11.92950264115745 11.935104380156503\n"
     ]
    }
   ],
   "source": [
    "call1=disc*v_call(s1).mean()\n",
    "call2=disc*v_call(s2).mean()\n",
    "print(call1,call2)"
   ]
  },
  {
   "cell_type": "code",
   "execution_count": 102,
   "metadata": {},
   "outputs": [
    {
     "data": {
      "text/plain": [
       "0.5601738999052586"
      ]
     },
     "execution_count": 102,
     "metadata": {},
     "output_type": "execute_result"
    }
   ],
   "source": [
    "delta=(call2-call1)/0.01\n",
    "delta"
   ]
  },
  {
   "cell_type": "code",
   "execution_count": 103,
   "metadata": {},
   "outputs": [],
   "source": [
    "#Greek-gamma\n",
    "temp1=s0+0.02\n"
   ]
  },
  {
   "cell_type": "code",
   "execution_count": 104,
   "metadata": {},
   "outputs": [],
   "source": [
    "np.random.seed(1)\n",
    "s5=temp1*np.random.lognormal(mu,sigma,N)"
   ]
  },
  {
   "cell_type": "code",
   "execution_count": 105,
   "metadata": {},
   "outputs": [],
   "source": [
    "call1=disc*v_call(s2).mean()\n",
    "call5=disc*v_call(s5).mean()\n",
    "#print(call1,call5)"
   ]
  },
  {
   "cell_type": "code",
   "execution_count": 106,
   "metadata": {},
   "outputs": [
    {
     "data": {
      "text/plain": [
       "0.013806132983518182"
      ]
     },
     "execution_count": 106,
     "metadata": {},
     "output_type": "execute_result"
    }
   ],
   "source": [
    "delta1=(call5-call1)/0.01\n",
    "\n",
    "gamma=(delta1-delta)/0.01\n",
    "gamma"
   ]
  },
  {
   "cell_type": "code",
   "execution_count": 107,
   "metadata": {},
   "outputs": [],
   "source": [
    "#Greek-Vega\n",
    "vol1 = vol+0.01\n",
    "sigma1 = vol1*np.sqrt(tao)\n",
    "mu1 = r - q -0.5*vol1*vol1*tao"
   ]
  },
  {
   "cell_type": "code",
   "execution_count": 108,
   "metadata": {},
   "outputs": [],
   "source": [
    "np.random.seed(1)\n",
    "s3=s0*np.random.lognormal(mu1,sigma1,N)"
   ]
  },
  {
   "cell_type": "code",
   "execution_count": 130,
   "metadata": {},
   "outputs": [
    {
     "name": "stdout",
     "output_type": "stream",
     "text": [
      "11.92950264115745 12.323881112942411\n"
     ]
    }
   ],
   "source": [
    "call1=disc*v_call(s1).mean()\n",
    "call3=disc*v_call(s3).mean()\n",
    "print(call1,call3)"
   ]
  },
  {
   "cell_type": "code",
   "execution_count": 110,
   "metadata": {},
   "outputs": [
    {
     "data": {
      "text/plain": [
       "39.4378471784961"
      ]
     },
     "execution_count": 110,
     "metadata": {},
     "output_type": "execute_result"
    }
   ],
   "source": [
    "vega=(call3-call1)/0.01\n",
    "vega"
   ]
  },
  {
   "cell_type": "code",
   "execution_count": 174,
   "metadata": {},
   "outputs": [],
   "source": [
    "#Greek-Rho\n",
    "r1=r+0.01\n",
    "mu2=(r1-q-0.5*vol*vol)*tao\n",
    "sigma=vol*np.sqrt(tao)\n",
    "disc_new=np.exp(-r1*tao)"
   ]
  },
  {
   "cell_type": "code",
   "execution_count": 175,
   "metadata": {},
   "outputs": [],
   "source": [
    "np.random.seed(1)\n",
    "s4=s0*np.random.lognormal(mu2,sigma,N)"
   ]
  },
  {
   "cell_type": "code",
   "execution_count": null,
   "metadata": {},
   "outputs": [],
   "source": []
  },
  {
   "cell_type": "code",
   "execution_count": 179,
   "metadata": {},
   "outputs": [
    {
     "name": "stdout",
     "output_type": "stream",
     "text": [
      "11.92950264115745 12.374553552853572\n"
     ]
    }
   ],
   "source": [
    "call1=disc*v_call(s1).mean()\n",
    "call4=disc_new*v_call(s4).mean()\n",
    "print(call1,call4)"
   ]
  },
  {
   "cell_type": "code",
   "execution_count": 180,
   "metadata": {},
   "outputs": [
    {
     "data": {
      "text/plain": [
       "44.50509116961214"
      ]
     },
     "execution_count": 180,
     "metadata": {},
     "output_type": "execute_result"
    }
   ],
   "source": [
    "Rho=(call4-call1)/0.01\n",
    "Rho"
   ]
  },
  {
   "cell_type": "code",
   "execution_count": 169,
   "metadata": {},
   "outputs": [],
   "source": [
    "#Greeks-Theta\n",
    "t1=tao+0.01\n",
    "sigma2 = vol*np.sqrt(t1)\n",
    "mu3 = r - q -0.5*vol*vol*t1\n"
   ]
  },
  {
   "cell_type": "code",
   "execution_count": 116,
   "metadata": {},
   "outputs": [],
   "source": [
    "np.random.seed(1)\n",
    "s6=s0*np.random.lognormal(mu3,sigma2,N)"
   ]
  },
  {
   "cell_type": "code",
   "execution_count": 117,
   "metadata": {},
   "outputs": [
    {
     "name": "stdout",
     "output_type": "stream",
     "text": [
      "11.92950264115745 11.988531419793379\n"
     ]
    }
   ],
   "source": [
    "call1=disc*v_call(s1).mean()\n",
    "call6=disc*v_call(s6).mean()\n",
    "print(call1,call6)"
   ]
  },
  {
   "cell_type": "code",
   "execution_count": 118,
   "metadata": {},
   "outputs": [
    {
     "data": {
      "text/plain": [
       "5.90287786359287"
      ]
     },
     "execution_count": 118,
     "metadata": {},
     "output_type": "execute_result"
    }
   ],
   "source": [
    "theta=(call6-call1)/0.01\n",
    "theta"
   ]
  },
  {
   "cell_type": "code",
   "execution_count": 183,
   "metadata": {},
   "outputs": [],
   "source": [
    "with open('result.txt','a') as out:\n",
    "    out.writelines('The result of options_mc is:\\n')\n",
    "    out.writelines('Delta: '+str(delta)+'\\n')\n",
    "    out.writelines('Gamma: '+str(gamma)+'\\n')\n",
    "    out.writelines('Rho: '+str(Rho)+'\\n')\n",
    "    out.writelines('Theta: '+str(theta)+'\\n')\n",
    "    out.writelines('Vega: '+str(vega)+'\\n')"
   ]
  },
  {
   "cell_type": "code",
   "execution_count": 5,
   "metadata": {},
   "outputs": [
    {
     "ename": "AttributeError",
     "evalue": "'list' object has no attribute 'mean'",
     "output_type": "error",
     "traceback": [
      "\u001b[1;31m---------------------------------------------------------------------------\u001b[0m",
      "\u001b[1;31mAttributeError\u001b[0m                            Traceback (most recent call last)",
      "\u001b[1;32m<ipython-input-5-726e73449a1b>\u001b[0m in \u001b[0;36m<module>\u001b[1;34m\u001b[0m\n\u001b[0;32m      1\u001b[0m \u001b[0ma\u001b[0m\u001b[1;33m=\u001b[0m\u001b[1;33m[\u001b[0m\u001b[1;36m1\u001b[0m\u001b[1;33m,\u001b[0m\u001b[1;36m2\u001b[0m\u001b[1;33m,\u001b[0m\u001b[1;36m3\u001b[0m\u001b[1;33m]\u001b[0m\u001b[1;33m\u001b[0m\u001b[1;33m\u001b[0m\u001b[0m\n\u001b[1;32m----> 2\u001b[1;33m \u001b[0ma\u001b[0m\u001b[1;33m.\u001b[0m\u001b[0mmean\u001b[0m\u001b[1;33m(\u001b[0m\u001b[1;33m)\u001b[0m\u001b[1;33m\u001b[0m\u001b[1;33m\u001b[0m\u001b[0m\n\u001b[0m",
      "\u001b[1;31mAttributeError\u001b[0m: 'list' object has no attribute 'mean'"
     ]
    }
   ],
   "source": [
    " a=[1,2,3]\n",
    "a.mean()"
   ]
  },
  {
   "cell_type": "code",
   "execution_count": 10,
   "metadata": {},
   "outputs": [
    {
     "data": {
      "text/plain": [
       "numpy.ndarray"
      ]
     },
     "execution_count": 10,
     "metadata": {},
     "output_type": "execute_result"
    }
   ],
   "source": [
    "type(s)"
   ]
  },
  {
   "cell_type": "code",
   "execution_count": null,
   "metadata": {},
   "outputs": [],
   "source": []
  }
 ],
 "metadata": {
  "kernelspec": {
   "display_name": "Python 3",
   "language": "python",
   "name": "python3"
  },
  "language_info": {
   "codemirror_mode": {
    "name": "ipython",
    "version": 3
   },
   "file_extension": ".py",
   "mimetype": "text/x-python",
   "name": "python",
   "nbconvert_exporter": "python",
   "pygments_lexer": "ipython3",
   "version": "3.7.4"
  }
 },
 "nbformat": 4,
 "nbformat_minor": 2
}
